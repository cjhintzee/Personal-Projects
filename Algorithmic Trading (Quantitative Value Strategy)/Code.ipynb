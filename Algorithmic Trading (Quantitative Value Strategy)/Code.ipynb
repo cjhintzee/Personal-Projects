{
 "cells": [
  {
   "cell_type": "code",
   "execution_count": null,
   "id": "3fe3d682-44b2-4f00-bab0-444f4f991e54",
   "metadata": {},
   "outputs": [],
   "source": [
    "import yfinance as yf\n",
    "import numpy as np \n",
    "import pandas as pd \n",
    "import requests \n",
    "import xlsxwriter \n",
    "import math \n",
    "from scipy import stats "
   ]
  },
  {
   "cell_type": "markdown",
   "id": "db4246ec-a9d9-4ec9-8597-d1a285f2ac2e",
   "metadata": {},
   "source": [
    "### Importing Data (list of static S&P500 stocks)"
   ]
  },
  {
   "cell_type": "code",
   "execution_count": null,
   "id": "03603c21-96c2-4495-9485-1fc817b55306",
   "metadata": {},
   "outputs": [],
   "source": [
    "stocks = pd.read_csv('sp_500_stocks.csv')"
   ]
  },
  {
   "cell_type": "code",
   "execution_count": null,
   "id": "5c9d8e13-ccbb-4d38-9874-5f1f67c60d5a",
   "metadata": {},
   "outputs": [],
   "source": [
    "print(stocks)"
   ]
  },
  {
   "cell_type": "markdown",
   "id": "21111ca6-bfc6-412e-b395-0badcabb022b",
   "metadata": {
    "jp-MarkdownHeadingCollapsed": true
   },
   "source": [
    "### Looping through one S&P500 companies for respective metrics"
   ]
  },
  {
   "cell_type": "code",
   "execution_count": null,
   "id": "ad050242-d057-43ae-9fe6-73c201745482",
   "metadata": {
    "scrolled": true
   },
   "outputs": [],
   "source": [
    "data = yf.Ticker('AAPL').info\n",
    "print(data)"
   ]
  },
  {
   "cell_type": "code",
   "execution_count": null,
   "id": "23862511-310f-4c6e-8d1b-cf3e635da3ba",
   "metadata": {},
   "outputs": [],
   "source": [
    "price = data['currentPrice']\n",
    "trailing_PE = data['trailingPE']\n",
    "forward_PE = data['forwardPE']\n",
    "pb_ratio = data['priceToBook']\n",
    "ps_ratio = data['priceToSalesTrailing12Months']\n",
    "ev_to_ebitda = data['enterpriseToEbitda']"
   ]
  },
  {
   "cell_type": "markdown",
   "id": "18136049-f572-40e1-b4fe-27f52ba18aff",
   "metadata": {},
   "source": [
    "### Looping through all S&P500 companies for respective metrics"
   ]
  },
  {
   "cell_type": "code",
   "execution_count": null,
   "id": "2294910d-9223-4885-b89a-ee1b31393e9e",
   "metadata": {},
   "outputs": [],
   "source": [
    "rv_columns = [\n",
    "    'Ticker',\n",
    "    'Price',\n",
    "    'Number of Shares to Buy', \n",
    "    'Forward Price-to-Earnings Ratio',\n",
    "    'Forward PE Percentile',\n",
    "    'Trailing Price-to-Earnings Ratio',\n",
    "    'Trailing PE Percentile',\n",
    "    'Price-to-Book Ratio',\n",
    "    'PB Percentile',\n",
    "    'Price-to-Sales Ratio',\n",
    "    'PS Percentile',\n",
    "    'EV/EBITDA',\n",
    "    'EV/EBITDA Percentile',\n",
    "    'RV Score'\n",
    "]\n",
    "\n",
    "rv_dataframe = pd.DataFrame(columns = rv_columns)\n",
    "\n",
    "rv_dataframe"
   ]
  },
  {
   "cell_type": "code",
   "execution_count": null,
   "id": "6a7daf8a-5ca2-482a-8d14-a26e9db23fd9",
   "metadata": {},
   "outputs": [],
   "source": [
    "for symbol in stocks['Ticker']:\n",
    "    try:    \n",
    "        data = yf.Ticker(symbol).info\n",
    "        new_row = pd.DataFrame([[symbol,\n",
    "                data['currentPrice'],\n",
    "                'N/A',\n",
    "                data['forwardPE'],\n",
    "                'N/A',\n",
    "                data['trailingPE'],\n",
    "                'N/A',\n",
    "                data['priceToBook'],\n",
    "                'N/A',\n",
    "                data['priceToSalesTrailing12Months'],\n",
    "                'N/A',\n",
    "                data['enterpriseToEbitda'],\n",
    "                'N/A',\n",
    "                'N/A']], columns = rv_columns)\n",
    "        rv_dataframe = pd.concat([rv_dataframe, new_row], ignore_index=True)\n",
    "    except Exception as e:\n",
    "        continue\n",
    "\n",
    "rv_dataframe"
   ]
  },
  {
   "cell_type": "markdown",
   "id": "85c84514-7800-474f-ae25-2867367ea5af",
   "metadata": {},
   "source": [
    "### Checking for any rows with NA/NaN values"
   ]
  },
  {
   "cell_type": "code",
   "execution_count": null,
   "id": "d4a79b32-d63b-4a18-99a2-1f473f28ed1f",
   "metadata": {},
   "outputs": [],
   "source": [
    "rv_dataframe[rv_dataframe.isnull().any(axis=1)]"
   ]
  },
  {
   "cell_type": "markdown",
   "id": "737b84af-6abc-4ab8-9e59-4329108e366b",
   "metadata": {},
   "source": [
    "### Determining percentile for each metric for each stock in dataframe"
   ]
  },
  {
   "cell_type": "code",
   "execution_count": null,
   "id": "1313aba5-fb8d-4876-a0fb-db533b2db878",
   "metadata": {
    "scrolled": true
   },
   "outputs": [],
   "source": [
    "metrics = {'Forward Price-to-Earnings Ratio': 'Forward PE Percentile',\n",
    "           'Trailing Price-to-Earnings Ratio': 'Trailing PE Percentile',\n",
    "            'Price-to-Book Ratio':'PB Percentile',\n",
    "            'Price-to-Sales Ratio': 'PS Percentile',\n",
    "            'EV/EBITDA':'EV/EBITDA Percentile'}\n",
    "\n",
    "for row in rv_dataframe.index:\n",
    "    for metric in metrics.keys():\n",
    "        rv_dataframe.loc[row, metrics[metric]] = stats.percentileofscore(rv_dataframe[metric], rv_dataframe.loc[row, metric])/100\n",
    "\n",
    "# Print each percentile score to make sure it was calculated properly\n",
    "for metric in metrics.values():\n",
    "    print(rv_dataframe[metric])\n",
    "\n",
    "#Print the entire DataFrame    \n",
    "rv_dataframe"
   ]
  },
  {
   "cell_type": "markdown",
   "id": "6393bbb9-9699-4ab0-bd58-ae3c790a7007",
   "metadata": {},
   "source": [
    "### Calculating Robust Value (RV) for each company in the dataframe"
   ]
  },
  {
   "cell_type": "code",
   "execution_count": null,
   "id": "39c3d91f-d9db-4362-a7be-20289f916d30",
   "metadata": {},
   "outputs": [],
   "source": [
    "from statistics import mean\n",
    "\n",
    "for row in rv_dataframe.index:\n",
    "    value_percentiles = []\n",
    "    for metric in metrics.keys():\n",
    "        value_percentiles.append(rv_dataframe.loc[row, metrics[metric]])\n",
    "    rv_dataframe.loc[row, 'RV Score'] = mean(value_percentiles)\n",
    "    \n",
    "rv_dataframe"
   ]
  },
  {
   "cell_type": "markdown",
   "id": "1b9a074f-35ba-4a5a-9bda-df9746d579f0",
   "metadata": {},
   "source": [
    "### Selecting 50 companies based on lowest RV Score"
   ]
  },
  {
   "cell_type": "code",
   "execution_count": null,
   "id": "353a0454-6d97-48a4-a610-bc17fd264cad",
   "metadata": {
    "scrolled": true
   },
   "outputs": [],
   "source": [
    "rv_dataframe.sort_values(by = 'RV Score', inplace = True)\n",
    "rv_dataframe = rv_dataframe[:50]\n",
    "rv_dataframe.reset_index(drop = True, inplace = True)\n",
    "\n",
    "rv_dataframe"
   ]
  },
  {
   "cell_type": "markdown",
   "id": "caf01f28-f4ea-48e6-9ce6-05a62612d994",
   "metadata": {},
   "source": [
    "### Determining Portfolio and Position Size"
   ]
  },
  {
   "cell_type": "code",
   "execution_count": null,
   "id": "777fce87-cc2a-486f-a995-31ae3d80a5a9",
   "metadata": {},
   "outputs": [],
   "source": [
    "while True:\n",
    "    portfolio_size = input(\"Please enter the value of your portfolio: \")\n",
    "    \n",
    "    try:\n",
    "        val = float(portfolio_size)\n",
    "        break  # Exit the loop if the input is a valid float\n",
    "    except ValueError:\n",
    "        print(\"That's not a number! Please try again.\")"
   ]
  },
  {
   "cell_type": "code",
   "execution_count": null,
   "id": "54192a58-197e-4b12-9407-9d601f4d88e0",
   "metadata": {
    "scrolled": true
   },
   "outputs": [],
   "source": [
    "position_size = float(portfolio_size) / len(rv_dataframe.index)\n",
    "print(\"Position Size for each company is: $\" f'{position_size}')\n",
    "\n",
    "for i in range(0, len(rv_dataframe.index)):\n",
    "    rv_dataframe.loc[i, 'Number of Shares to Buy'] = math.floor(position_size / rv_dataframe['Price'][i])\n",
    "\n",
    "rv_dataframe"
   ]
  },
  {
   "cell_type": "markdown",
   "id": "1bd0a970-54aa-4bea-b560-95676f9dffca",
   "metadata": {},
   "source": [
    "### Formatting Excel Output"
   ]
  },
  {
   "cell_type": "code",
   "execution_count": null,
   "id": "7ab357b1-5db7-4a84-9b2a-6cd76805e828",
   "metadata": {},
   "outputs": [],
   "source": [
    "writer = pd.ExcelWriter('value_strategy.xlsx', engine='xlsxwriter')\n",
    "rv_dataframe.to_excel(writer, sheet_name='Value Strategy', index = False)"
   ]
  },
  {
   "cell_type": "code",
   "execution_count": null,
   "id": "a95f7245-c0b2-40b9-b29f-afccd584c5f4",
   "metadata": {},
   "outputs": [],
   "source": [
    "background_color = '#0a0a23'\n",
    "font_color = '#ffffff'\n",
    "\n",
    "string_template = writer.book.add_format(\n",
    "        {\n",
    "            'font_color': font_color,\n",
    "            'bg_color': background_color,\n",
    "            'border': 1\n",
    "        }\n",
    "    )\n",
    "\n",
    "dollar_template = writer.book.add_format(\n",
    "        {\n",
    "            'num_format':'$0.00',\n",
    "            'font_color': font_color,\n",
    "            'bg_color': background_color,\n",
    "            'border': 1\n",
    "        }\n",
    "    )\n",
    "\n",
    "integer_template = writer.book.add_format(\n",
    "        {\n",
    "            'num_format':'0',\n",
    "            'font_color': font_color,\n",
    "            'bg_color': background_color,\n",
    "            'border': 1\n",
    "        }\n",
    "    )\n",
    "\n",
    "float_template = writer.book.add_format(\n",
    "        {\n",
    "            'num_format':'0',\n",
    "            'font_color': font_color,\n",
    "            'bg_color': background_color,\n",
    "            'border': 1\n",
    "        }\n",
    "    )\n",
    "\n",
    "percent_template = writer.book.add_format(\n",
    "        {\n",
    "            'num_format':'0.0%',\n",
    "            'font_color': font_color,\n",
    "            'bg_color': background_color,\n",
    "            'border': 1\n",
    "        }\n",
    "    )"
   ]
  },
  {
   "cell_type": "code",
   "execution_count": null,
   "id": "66947bb7-5b96-44c6-ab55-b33c70e2a66a",
   "metadata": {},
   "outputs": [],
   "source": [
    "column_formats = {\n",
    "                    'A': ['Ticker', string_template],\n",
    "                    'B': ['Price', dollar_template],\n",
    "                    'C': ['Number of Shares to Buy', integer_template],\n",
    "                    'D': ['Forward Price-to-Earnings Ratio', float_template],\n",
    "                    'E': ['Forward PE Percentile', percent_template],\n",
    "                    'F': ['Trailing Price-to-Earnings Ratio', float_template],\n",
    "                    'G': ['Trailing PE Percentile', percent_template],\n",
    "                    'H': ['Price-to-Book Ratio', float_template],\n",
    "                    'I': ['PB Percentile',percent_template],\n",
    "                    'J': ['Price-to-Sales Ratio', float_template],\n",
    "                    'K': ['PS Percentile', percent_template],\n",
    "                    'L': ['EV/EBITDA', float_template],\n",
    "                    'M': ['EV/EBITDA Percentile', percent_template],\n",
    "                    'N': ['RV Score', percent_template]\n",
    "                 }\n",
    "\n",
    "for column in column_formats.keys():\n",
    "    writer.sheets['Value Strategy'].set_column(f'{column}:{column}', 25, column_formats[column][1])\n",
    "    writer.sheets['Value Strategy'].write(f'{column}1', column_formats[column][0], column_formats[column][1])"
   ]
  },
  {
   "cell_type": "code",
   "execution_count": null,
   "id": "1f6de6c0-05fb-452e-942a-d7f6de8bd850",
   "metadata": {},
   "outputs": [],
   "source": [
    "writer.close()"
   ]
  },
  {
   "cell_type": "markdown",
   "id": "6457bb35-28c6-42d0-a4d3-3a2383d08807",
   "metadata": {
    "jp-MarkdownHeadingCollapsed": true
   },
   "source": [
    "### Backtesting Strategy (Not Possible)"
   ]
  },
  {
   "cell_type": "code",
   "execution_count": null,
   "id": "39d4ad0d-9095-47b0-90f5-7259adc18fa1",
   "metadata": {},
   "outputs": [],
   "source": [
    "import backtrader as bt\n",
    "from datetime import datetime, timedelta"
   ]
  },
  {
   "cell_type": "code",
   "execution_count": null,
   "id": "b744751d-26ff-4b76-b69a-b308469b8d44",
   "metadata": {},
   "outputs": [],
   "source": [
    "# Define the strategy class\n",
    "class QuantValueStrategy(bt.Strategy):\n",
    "    params = dict(rebalance_days=30)\n",
    "\n",
    "    def __init__(self):\n",
    "        self.counter = 0\n",
    "\n",
    "    def log(self, txt, dt=None):\n",
    "        dt = dt or self.datas[0].datetime.date(0)\n",
    "        print(f'{dt.isoformat()} {txt}')\n",
    "\n",
    "    def next(self):\n",
    "        # Increment counter each day\n",
    "        self.counter += 1\n",
    "\n",
    "        # Rebalance the portfolio every 30 days\n",
    "        if self.counter % self.params.rebalance_days == 0:\n",
    "            self.log(\"Rebalancing portfolio...\")\n",
    "            self.rebalance_portfolio()\n",
    "\n",
    "    def rebalance_portfolio(self):\n",
    "        # Clear all current positions\n",
    "        for data in self.datas:\n",
    "            position = self.getposition(data)\n",
    "            if position.size != 0:\n",
    "                self.close(data)\n",
    "\n",
    "        # Get S&P 500 stock data using yfinance\n",
    "        stocks = pd.read_csv('sp_500_stocks.csv')\n",
    "        rv_columns = ['Ticker', 'Price', 'ForwardPE', 'TrailingPE', 'PriceToBook', 'PriceToSales', 'EnterpriseToEBITDA']\n",
    "        rv_dataframe = pd.DataFrame(columns=rv_columns)\n",
    "\n",
    "        for symbol in stocks['Ticker']:\n",
    "            try:\n",
    "                data = yf.Ticker(symbol).info\n",
    "                new_row = pd.DataFrame([[symbol,\n",
    "                                        data['currentPrice'],\n",
    "                                        data.get('forwardPE', np.nan),\n",
    "                                        data.get('trailingPE', np.nan),\n",
    "                                        data.get('priceToBook', np.nan),\n",
    "                                        data.get('priceToSalesTrailing12Months', np.nan),\n",
    "                                        data.get('enterpriseToEbitda', np.nan)]],\n",
    "                                      columns=rv_columns)\n",
    "                rv_dataframe = pd.concat([rv_dataframe, new_row], ignore_index=True)\n",
    "            except Exception as e:\n",
    "                print(f\"Error fetching data for {symbol}: {e}\")\n",
    "                continue\n",
    "\n",
    "        # Remove rows with missing data\n",
    "        rv_dataframe.dropna(inplace=True)\n",
    "\n",
    "        # Calculate percentiles and RV score\n",
    "        metrics = {\n",
    "            'ForwardPE': 'ForwardPE Percentile',\n",
    "            'TrailingPE': 'TrailingPE Percentile',\n",
    "            'PriceToBook': 'PriceToBook Percentile',\n",
    "            'PriceToSales': 'PriceToSales Percentile',\n",
    "            'EnterpriseToEBITDA': 'EnterpriseToEBITDA Percentile'\n",
    "        }\n",
    "\n",
    "        for metric in metrics.keys():\n",
    "            rv_dataframe[metrics[metric]] = rv_dataframe[metric].rank(pct=True)\n",
    "\n",
    "        # Calculate the average of percentiles to determine RV Score\n",
    "        rv_dataframe['RV Score'] = rv_dataframe[[metrics[m] for m in metrics]].mean(axis=1)\n",
    "\n",
    "        # Select top 50 stocks based on RV Score\n",
    "        rv_dataframe.sort_values(by='RV Score', inplace=True)\n",
    "        rv_dataframe = rv_dataframe[:50]\n",
    "        rv_dataframe.reset_index(drop=True, inplace=True)\n",
    "\n",
    "        # Rebalance portfolio: equal weighting\n",
    "        portfolio_value = self.broker.getvalue()\n",
    "        position_size = portfolio_value / len(rv_dataframe)\n",
    "\n",
    "        # Buy the top 50 stocks with equal weighting\n",
    "        for i in range(0, len(rv_dataframe)):\n",
    "            stock = rv_dataframe.loc[i, 'Ticker']\n",
    "            price = rv_dataframe.loc[i, 'Price']\n",
    "\n",
    "            if price > 0:\n",
    "                data_feed = self.getdatabyname(stock)\n",
    "                if data_feed is not None:\n",
    "                    number_of_shares = int(position_size / price)\n",
    "\n",
    "                    if number_of_shares > 0:\n",
    "                        # Buy shares\n",
    "                        self.buy(data=data_feed, size=number_of_shares)"
   ]
  },
  {
   "cell_type": "code",
   "execution_count": null,
   "id": "cd7f576a-2047-465c-b76e-7bea62124fc0",
   "metadata": {},
   "outputs": [],
   "source": [
    "# Download historical data\n",
    "def download_data(tickers, start_date, end_date):\n",
    "    data = {}\n",
    "    for ticker in tickers:\n",
    "        try:\n",
    "            df = yf.download(ticker, start=start_date, end=end_date)\n",
    "            df['Open Interest'] = 0  # Required column for Backtrader\n",
    "            data[ticker] = df\n",
    "        except Exception as e:\n",
    "            print(f\"Error downloading {ticker}: {e}\")\n",
    "    return data"
   ]
  },
  {
   "cell_type": "code",
   "execution_count": null,
   "id": "f234e9d7-0284-45cf-8523-c494f13d91ba",
   "metadata": {},
   "outputs": [],
   "source": [
    "cerebro = bt.Cerebro()"
   ]
  },
  {
   "cell_type": "code",
   "execution_count": null,
   "id": "d5a40dd6-3368-47cb-9611-586686019bc6",
   "metadata": {},
   "outputs": [],
   "source": [
    "# Get historical data for all S&P500 tickers over the last 10 years\n",
    "start_date = (datetime.now() - timedelta(days=365 * 2)).strftime('%Y-%m-%d')\n",
    "end_date = datetime.now().strftime('%Y-%m-%d')"
   ]
  },
  {
   "cell_type": "code",
   "execution_count": null,
   "id": "867c17f3-1e91-4c49-a8fc-dde024ecb65c",
   "metadata": {},
   "outputs": [],
   "source": [
    "# Get tickers from the CSV file\n",
    "stocks = pd.read_csv('sp_500_stocks.csv')\n",
    "tickers = stocks['Ticker'].tolist()"
   ]
  },
  {
   "cell_type": "code",
   "execution_count": null,
   "id": "3cf4a4c0-44c9-42ce-ba8e-329d16346c4d",
   "metadata": {},
   "outputs": [],
   "source": [
    "data = download_data(tickers, start_date, end_date)"
   ]
  },
  {
   "cell_type": "code",
   "execution_count": null,
   "id": "83b645f8-4c3d-4f35-b812-3d24d24550fe",
   "metadata": {},
   "outputs": [],
   "source": [
    "# Add data feeds to cerebro\n",
    "for ticker, df in data.items():\n",
    "    if not df.empty:\n",
    "        data_feed = bt.feeds.PandasData(dataname=df)\n",
    "        cerebro.adddata(data_feed, name=ticker)"
   ]
  },
  {
   "cell_type": "code",
   "execution_count": null,
   "id": "33f32dd7-c44f-448e-aa70-0b830fe622d3",
   "metadata": {},
   "outputs": [],
   "source": [
    "# Add the strategy\n",
    "cerebro.addstrategy(QuantValueStrategy)"
   ]
  },
  {
   "cell_type": "code",
   "execution_count": null,
   "id": "ad88ed15-c014-4c5c-99e6-37c1d768c0cd",
   "metadata": {},
   "outputs": [],
   "source": [
    "# Set initial portfolio value\n",
    "cerebro.broker.setcash(1000000)"
   ]
  },
  {
   "cell_type": "code",
   "execution_count": null,
   "id": "f0175d4a-f5d3-4c8c-84e5-237f1371fd98",
   "metadata": {},
   "outputs": [],
   "source": [
    "cerebro.addanalyzer(bt.analyzers.SharpeRatio, _name='sharpe')\n",
    "cerebro.addanalyzer(bt.analyzers.DrawDown, _name='drawdown')\n",
    "cerebro.addanalyzer(bt.analyzers.Returns, _name='returns')\n",
    "cerebro.addanalyzer(bt.analyzers.TradeAnalyzer, _name='trades')"
   ]
  },
  {
   "cell_type": "code",
   "execution_count": null,
   "id": "d4644cb7-273f-472a-9d45-9726afcfff3c",
   "metadata": {},
   "outputs": [],
   "source": [
    "# Run the backtest\n",
    "print('Starting Portfolio Value: %.2f' % cerebro.broker.getvalue())\n",
    "results = cerebro.run()\n",
    "print('Final Portfolio Value: %.2f' % cerebro.broker.getvalue())"
   ]
  },
  {
   "cell_type": "code",
   "execution_count": null,
   "id": "b7bcf845-51fb-4dda-958a-28a6ddca2fb8",
   "metadata": {},
   "outputs": [],
   "source": [
    "strat = results[0]\n",
    "    \n",
    "# Extract statistics from analyzers\n",
    "sharpe = strat.analyzers.sharpe.get_analysis()\n",
    "drawdown = strat.analyzers.drawdown.get_analysis()\n",
    "returns = strat.analyzers.returns.get_analysis()\n",
    "trades = strat.analyzers.trades.get_analysis()\n",
    "    \n",
    "# Print out or save the results\n",
    "print(f'Sharpe Ratio: {sharpe[\"sharperatio\"]}')\n",
    "print(f'Max Drawdown: {drawdown[\"max\"][\"drawdown\"]}%')\n",
    "print(f'Annual Return: {returns[\"rnorm100\"]}%')\n",
    "    \n",
    "# Accessing trade statistics\n",
    "print(f'Total Trades: {trades.total.total}')\n",
    "print(f'Winning Trades: {trades.won.total}')\n",
    "print(f'Losing Trades: {trades.lost.total}')"
   ]
  }
 ],
 "metadata": {
  "kernelspec": {
   "display_name": "Python 3 (ipykernel)",
   "language": "python",
   "name": "python3"
  },
  "language_info": {
   "codemirror_mode": {
    "name": "ipython",
    "version": 3
   },
   "file_extension": ".py",
   "mimetype": "text/x-python",
   "name": "python",
   "nbconvert_exporter": "python",
   "pygments_lexer": "ipython3",
   "version": "3.12.4"
  }
 },
 "nbformat": 4,
 "nbformat_minor": 5
}
