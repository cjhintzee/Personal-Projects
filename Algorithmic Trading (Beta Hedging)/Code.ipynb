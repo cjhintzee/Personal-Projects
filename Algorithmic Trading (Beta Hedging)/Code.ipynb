{
 "cells": [
  {
   "cell_type": "markdown",
   "id": "e02210a1-1ce4-46f5-a5a0-c1bd695df9e5",
   "metadata": {},
   "source": [
    "### Import and Data preparation"
   ]
  },
  {
   "cell_type": "code",
   "execution_count": null,
   "id": "621b8bab-6721-46f8-9b48-932d5bffe50c",
   "metadata": {},
   "outputs": [],
   "source": [
    "import yfinance as yf\n",
    "import statsmodels.api as sm\n",
    "import matplotlib.pyplot as plt\n",
    "import pandas as pd\n",
    "import numpy as np"
   ]
  },
  {
   "cell_type": "code",
   "execution_count": null,
   "id": "1fb87341-a448-440a-8a50-2f56bf4c681d",
   "metadata": {},
   "outputs": [],
   "source": [
    "# Define tickers for Mag 7 stocks and QQQ\n",
    "tickers = ['AAPL', 'MSFT', 'AMZN', 'NVDA', 'GOOG', 'META', 'TSLA', 'QQQ']\n",
    "data = yf.download(tickers, start='2022-01-01')[['Adj Close', 'Volume']]"
   ]
  },
  {
   "cell_type": "code",
   "execution_count": null,
   "id": "33c1c579-1cd7-4e83-8d57-985a329ca0ec",
   "metadata": {},
   "outputs": [],
   "source": [
    "data"
   ]
  },
  {
   "cell_type": "code",
   "execution_count": null,
   "id": "36070107-3b4a-4448-a034-71c3d5e4cade",
   "metadata": {},
   "outputs": [],
   "source": [
    "# Separate price and volume data for the portfolio and benchmark\n",
    "price_data = data['Adj Close']\n",
    "volume_data = data['Volume']"
   ]
  },
  {
   "cell_type": "code",
   "execution_count": null,
   "id": "71194b46-8bf5-47ff-b1ee-9599d4f873db",
   "metadata": {},
   "outputs": [],
   "source": [
    "price_data"
   ]
  },
  {
   "cell_type": "code",
   "execution_count": null,
   "id": "37e652b4-b60e-4227-b1ce-a86e4e05c52c",
   "metadata": {},
   "outputs": [],
   "source": [
    "volume_data"
   ]
  },
  {
   "cell_type": "code",
   "execution_count": null,
   "id": "6eaedbd9-2d9f-4b3f-bb8d-b0157c7fb993",
   "metadata": {},
   "outputs": [],
   "source": [
    "# Get returns of QQQ\n",
    "benchmark_returns = price_data.pop(\"QQQ\").pct_change().dropna()[29:]"
   ]
  },
  {
   "cell_type": "code",
   "execution_count": null,
   "id": "42ece939-fce5-47d8-bdcf-ab0c71dbb9fc",
   "metadata": {},
   "outputs": [],
   "source": [
    "benchmark_returns"
   ]
  },
  {
   "cell_type": "code",
   "execution_count": null,
   "id": "62fcea69-01b4-4492-a898-a5be009316f7",
   "metadata": {},
   "outputs": [],
   "source": [
    "# Calculate 30-day rolling average volume for weighting\n",
    "volume_data.pop(\"QQQ\")\n",
    "avg_volume = volume_data.rolling(window=30).mean()"
   ]
  },
  {
   "cell_type": "code",
   "execution_count": null,
   "id": "30667c6a-8404-4430-86b8-e875bdc7cb64",
   "metadata": {},
   "outputs": [],
   "source": [
    "pd.set_option('display.float_format', '{:,.0f}'.format)\n",
    "avg_volume"
   ]
  },
  {
   "cell_type": "code",
   "execution_count": null,
   "id": "b32ec7e1-93e9-4279-a3da-47b1a3168923",
   "metadata": {},
   "outputs": [],
   "source": [
    "# Calculate portfolio returns with volume-based weights\n",
    "def calculate_weighted_returns(price_data, avg_volume):\n",
    "    weights = avg_volume.div(avg_volume.sum(axis=1), axis=0)  # Normalize to get weights\n",
    "    weighted_returns = (price_data.pct_change() * weights.shift(1)).sum(axis=1)\n",
    "    return weighted_returns"
   ]
  },
  {
   "cell_type": "code",
   "execution_count": null,
   "id": "83fad5ab-cb88-4433-aed8-c00ead7f507b",
   "metadata": {},
   "outputs": [],
   "source": [
    "# Get weighted portfolio returns\n",
    "portfolio_returns = calculate_weighted_returns(price_data, avg_volume)[30:]"
   ]
  },
  {
   "cell_type": "code",
   "execution_count": null,
   "id": "a6a51ffe-c51f-4e7e-9ad9-695aa096ff7f",
   "metadata": {},
   "outputs": [],
   "source": [
    "pd.reset_option('display.float_format')\n",
    "portfolio_returns"
   ]
  },
  {
   "cell_type": "code",
   "execution_count": null,
   "id": "ed261065-a448-4d52-abbd-94b47e5357ce",
   "metadata": {},
   "outputs": [],
   "source": [
    "# Plot returns for visual check\n",
    "plt.figure(figsize=(12, 8))\n",
    "plt.plot(portfolio_returns[30:], label='Volume-Weighted Mag 7')\n",
    "plt.plot(benchmark_returns[29:], label='QQQ')\n",
    "plt.xlabel('Date')\n",
    "plt.ylabel('Returns (in percentage)')\n",
    "plt.title('QQQ vs Volume-Weighted Mag 7 Portfolio Returns')\n",
    "plt.legend()\n",
    "plt.show()"
   ]
  },
  {
   "cell_type": "markdown",
   "id": "014e5c47-4e34-47e4-bc14-56d1291c6a3a",
   "metadata": {},
   "source": [
    "### Linear Regression and Hedge Ratio"
   ]
  },
  {
   "cell_type": "code",
   "execution_count": null,
   "id": "4893ac83-125e-4e03-93a8-aaa519bd694f",
   "metadata": {},
   "outputs": [],
   "source": [
    "def linreg(x, y):    \n",
    "    x = sm.add_constant(x)\n",
    "    model = sm.OLS(y, x).fit()\n",
    "    return model"
   ]
  },
  {
   "cell_type": "code",
   "execution_count": null,
   "id": "9a378ec9-de61-4524-9278-1e28c4fa18d3",
   "metadata": {},
   "outputs": [],
   "source": [
    "X = benchmark_returns.values\n",
    "Y = portfolio_returns.values"
   ]
  },
  {
   "cell_type": "code",
   "execution_count": null,
   "id": "b3aa0e8e-e61a-41c5-af98-2ffb825841ca",
   "metadata": {},
   "outputs": [],
   "source": [
    "print(len(X), len(Y))"
   ]
  },
  {
   "cell_type": "code",
   "execution_count": null,
   "id": "44b008c9-5fe4-4d49-9eef-4dcfddd28a74",
   "metadata": {
    "scrolled": true
   },
   "outputs": [],
   "source": [
    "model = linreg(X, Y)\n",
    "alpha, beta = model.params[0], model.params[1]"
   ]
  },
  {
   "cell_type": "code",
   "execution_count": null,
   "id": "9f51fc66-4355-4505-bca1-e5b4487b7fc6",
   "metadata": {},
   "outputs": [],
   "source": [
    "print(model.summary())\n",
    "print(f\"Alpha: {alpha}\")\n",
    "print(f\"Beta: {beta}\")"
   ]
  },
  {
   "cell_type": "markdown",
   "id": "25a6997b-cb8f-4378-930a-26a9abeb4411",
   "metadata": {},
   "source": [
    "### Implementing the Hedge"
   ]
  },
  {
   "cell_type": "code",
   "execution_count": null,
   "id": "57f54ca4-ce5c-4946-a71f-3b8c97c1362b",
   "metadata": {},
   "outputs": [],
   "source": [
    "hedged_portfolio_returns = -beta * benchmark_returns + portfolio_returns\n",
    "\n",
    "P = hedged_portfolio_returns.values\n",
    "model = linreg(X, P)\n",
    "alpha, beta = model.params[0], model.params[1]"
   ]
  },
  {
   "cell_type": "code",
   "execution_count": null,
   "id": "d9e0503c-1a60-44de-8d16-361e2a8ac076",
   "metadata": {},
   "outputs": [],
   "source": [
    "print(model.summary())\n",
    "print(f\"Alpha: {alpha}\")\n",
    "print(f\"Beta: {round(beta, 6)}\")"
   ]
  },
  {
   "cell_type": "code",
   "execution_count": null,
   "id": "cb99f6b1-363b-4cc2-944a-427d2f4407be",
   "metadata": {},
   "outputs": [],
   "source": [
    "plt.figure(figsize=(12, 8))\n",
    "plt.plot(hedged_portfolio_returns, label='Shorting QQQ, Longing Portfolio')\n",
    "plt.plot(benchmark_returns, label='QQQ')\n",
    "plt.xlabel('Date')\n",
    "plt.ylabel('Returns (in percentage)')\n",
    "plt.title('QQQ vs Hedged Portfolio')\n",
    "plt.legend()"
   ]
  },
  {
   "cell_type": "markdown",
   "id": "b8bb0f6d-aeb6-47ae-af30-0c307db2ee6b",
   "metadata": {},
   "source": [
    "### Backtesting"
   ]
  },
  {
   "cell_type": "code",
   "execution_count": null,
   "id": "5c0a778d-cd2e-4264-ad14-1a1cb371a377",
   "metadata": {},
   "outputs": [],
   "source": [
    "def hedged_portfolio_performance_dynamic_beta(\n",
    "    portfolio_size,\n",
    "    rebalancing_days,\n",
    "    benchmark_returns,\n",
    "    long_returns,\n",
    "    short_returns,\n",
    "    transaction_cost\n",
    "):\n",
    "\n",
    "    portfolio_value = portfolio_size\n",
    "    portfolio_values = [portfolio_value]\n",
    "    betas = []\n",
    "\n",
    "    # Initial beta calculation for precise initial allocations\n",
    "    initial_benchmark_returns = benchmark_returns[:rebalancing_days]\n",
    "    initial_long_returns = long_returns[:rebalancing_days]\n",
    "\n",
    "    # Calculate initial beta using OLS\n",
    "    X = sm.add_constant(initial_benchmark_returns)\n",
    "    model = sm.OLS(initial_long_returns, X).fit()\n",
    "    initial_beta = model.params[1]\n",
    "    betas.append(initial_beta)\n",
    "\n",
    "    # Calculate initial long and short allocation ratios based on initial beta\n",
    "    long_ratio = 1 / (1 + initial_beta)\n",
    "    short_ratio = initial_beta / (1 + initial_beta)\n",
    "\n",
    "    # Initial allocations\n",
    "    long_allocation = portfolio_value * long_ratio\n",
    "    short_allocation = portfolio_value * short_ratio\n",
    "\n",
    "    # Loop through the returns, rebalancing every `rebalancing_days`\n",
    "    for i in range(0, len(long_returns), rebalancing_days):\n",
    "        # Get returns for the current rebalancing period\n",
    "        long_period_returns = long_returns[i:i + rebalancing_days]\n",
    "        short_period_returns = short_returns[i:i + rebalancing_days]\n",
    "        benchmark_period_returns = benchmark_returns[i:i + rebalancing_days]\n",
    "\n",
    "        # Calculate portfolio returns over the rebalancing period\n",
    "        portfolio_period_returns = (long_period_returns + short_period_returns) / 2\n",
    "\n",
    "        # Recalculate beta using OLS for each rebalancing period\n",
    "        if len(benchmark_period_returns) == rebalancing_days:\n",
    "            X = sm.add_constant(benchmark_period_returns)\n",
    "            model = sm.OLS(portfolio_period_returns, X).fit()\n",
    "            beta = model.params[1]\n",
    "            betas.append(beta)\n",
    "\n",
    "            # Update long and short allocation ratios based on new beta\n",
    "            long_ratio = 1 / (1 + beta)\n",
    "            short_ratio = beta / (1 + beta)\n",
    "        else:\n",
    "            # If there's insufficient data, continue with previous allocation ratios\n",
    "            long_ratio = long_allocation / portfolio_value\n",
    "            short_ratio = short_allocation / portfolio_value\n",
    "\n",
    "        # Calculate cumulative returns over the rebalancing period\n",
    "        long_cum_return = np.prod(1 + long_period_returns) - 1\n",
    "        short_cum_return = np.prod(1 + short_period_returns) - 1\n",
    "\n",
    "        # Update long and short allocations based on cumulative returns\n",
    "        long_allocation *= (1 + long_cum_return) * (1 - transaction_cost)\n",
    "        short_allocation *= (1 + short_cum_return) * (1 - transaction_cost)\n",
    "\n",
    "        # Calculate total portfolio value after rebalancing\n",
    "        portfolio_value = long_allocation + short_allocation\n",
    "        portfolio_values.append(portfolio_value)\n",
    "\n",
    "        # Rebalance the portfolio based on the new long/short ratio\n",
    "        long_allocation = portfolio_value * long_ratio\n",
    "        short_allocation = portfolio_value * short_ratio\n",
    "\n",
    "    return portfolio_values, betas\n"
   ]
  },
  {
   "cell_type": "code",
   "execution_count": null,
   "id": "64b2660c-57fe-4848-bbb4-49388dabc315",
   "metadata": {},
   "outputs": [],
   "source": [
    "def get_sharpe_ratio(risk_free_rate, portfolio_values, rebalancing_days):\n",
    "    # Calculate Sharpe Ratio\n",
    "    portfolio_period_returns = pd.Series(portfolio_values).pct_change().dropna()  # Calculate returns for each rebalancing period\n",
    "    period_risk_free_rate = (1 + risk_free_rate) ** (rebalancing_days / 365) - 1  # Adjusted to rebalancing frequency\n",
    "    excess_returns = portfolio_period_returns - period_risk_free_rate\n",
    "\n",
    "    # Annualize the Sharpe Ratio\n",
    "    periods_per_year = 365 / rebalancing_days\n",
    "    mean_excess_return = np.mean(excess_returns)\n",
    "    std_dev_excess_return = np.std(excess_returns)\n",
    "    sharpe_ratio = (mean_excess_return / std_dev_excess_return) * np.sqrt(periods_per_year)\n",
    "\n",
    "    return sharpe_ratio"
   ]
  },
  {
   "cell_type": "code",
   "execution_count": null,
   "id": "d2d3ee20-5e92-43e6-be3a-08a6b8545312",
   "metadata": {},
   "outputs": [],
   "source": [
    "# Example parameters for the hedged strategy\n",
    "portfolio_size = 1000000\n",
    "rebalancing_days = 30\n",
    "short_returns = -benchmark_returns  # Assume shorting the benchmark as a basic hedge\n",
    "transaction_cost = 0.001  # 0.1% per trade\n",
    "risk_free_rate = 0.02  # Annual risk-free rate (2%)\n",
    "\n",
    "# Run the hedged strategy\n",
    "portfolio_values, betas = hedged_portfolio_performance_dynamic_beta(\n",
    "    portfolio_size,\n",
    "    rebalancing_days,\n",
    "    benchmark_returns.values,\n",
    "    portfolio_returns.values,  # Volume-weighted long returns\n",
    "    short_returns.values,\n",
    "    transaction_cost\n",
    ")\n",
    "\n",
    "sharpe_ratio = get_sharpe_ratio(risk_free_rate, portfolio_values, rebalancing_days)"
   ]
  },
  {
   "cell_type": "code",
   "execution_count": null,
   "id": "8d75dab2-406e-494f-9e25-f6220703d1f5",
   "metadata": {},
   "outputs": [],
   "source": [
    "# Create a DataFrame for better presentation\n",
    "if len(portfolio_values) != len(betas):\n",
    "    min_length = min(len(portfolio_values), len(betas))\n",
    "    portfolio_values = portfolio_values[:min_length]\n",
    "    betas = betas[:min_length]\n",
    "    print(\"Warning: Length mismatch detected. Trimming data to match lengths.\")\n",
    "\n",
    "df = pd.DataFrame({\n",
    "    \"Rebalancing Step\": range(1, len(portfolio_values)+1),\n",
    "    \"Portfolio Value\": portfolio_values,\n",
    "    \"Beta Value\": betas\n",
    "})\n",
    "\n",
    "# Calculate initial, final portfolio size, and total realized returns\n",
    "initial_portfolio_size = portfolio_values[0]\n",
    "final_portfolio_size = portfolio_values[-1]\n",
    "total_realized_returns = (final_portfolio_size - initial_portfolio_size) / initial_portfolio_size * 100\n",
    "annualized_returns = ((final_portfolio_size / initial_portfolio_size) ** (365 / (min(len(portfolio_values),len(betas)) * rebalancing_days)) - 1) * 100\n",
    "\n",
    "# Benchmark comparison\n",
    "benchmark_cumulative_return = (1 + benchmark_returns).prod() - 1\n",
    "benchmark_annualized_return = ((1 + benchmark_cumulative_return) ** (365 / len(benchmark_returns)) - 1) * 100\n",
    "\n",
    "# Output results in a cleaner format\n",
    "print(f\"Initial Portfolio Size: {initial_portfolio_size:,.2f}\")\n",
    "print(f\"Final Portfolio Size: {final_portfolio_size:,.2f}\")\n",
    "print(f\"Total Realized Returns: {total_realized_returns:.2f}%\")\n",
    "print(f\"Annual Returns: {annualized_returns:.2f}%\")\n",
    "print(f\"Benchmark Annualized Returns: {benchmark_annualized_return:.2f}%\")\n",
    "print(f\"Sharpe Ratio: {sharpe_ratio:.2f}\\n\")\n",
    "\n",
    "\n",
    "# Display the DataFrame with formatting\n",
    "pd.options.display.float_format = '{:,.2f}'.format\n",
    "print(\"Portfolio and Beta values at each rebalancing:\\n\", df)\n"
   ]
  }
 ],
 "metadata": {
  "kernelspec": {
   "display_name": "Python 3 (ipykernel)",
   "language": "python",
   "name": "python3"
  },
  "language_info": {
   "codemirror_mode": {
    "name": "ipython",
    "version": 3
   },
   "file_extension": ".py",
   "mimetype": "text/x-python",
   "name": "python",
   "nbconvert_exporter": "python",
   "pygments_lexer": "ipython3",
   "version": "3.12.4"
  }
 },
 "nbformat": 4,
 "nbformat_minor": 5
}
