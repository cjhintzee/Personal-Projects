{
 "cells": [
  {
   "cell_type": "markdown",
   "id": "bf178ed6-6d7e-4d19-bc7d-e180496c0ccb",
   "metadata": {},
   "source": [
    "### Libraries"
   ]
  },
  {
   "cell_type": "code",
   "execution_count": null,
   "id": "df0b1816-8d44-4117-905d-19d7adb9c8d9",
   "metadata": {},
   "outputs": [],
   "source": [
    "import numpy as np \n",
    "import pandas as pd \n",
    "import requests \n",
    "import xlsxwriter \n",
    "import math "
   ]
  },
  {
   "cell_type": "markdown",
   "id": "f3600607-78b1-4008-afea-be35f36f0ef8",
   "metadata": {},
   "source": [
    "### Importing Data (list of static S&P500 stocks)"
   ]
  },
  {
   "cell_type": "code",
   "execution_count": null,
   "id": "113c0af0-5ca2-47ec-af30-1aef45742898",
   "metadata": {},
   "outputs": [],
   "source": [
    "stocks = pd.read_csv('sp_500_stocks.csv')"
   ]
  },
  {
   "cell_type": "code",
   "execution_count": null,
   "id": "854c3da4-8e68-4feb-b7ef-44a2e7a72bba",
   "metadata": {},
   "outputs": [],
   "source": [
    "print(stocks)"
   ]
  },
  {
   "cell_type": "markdown",
   "id": "3347d6c5-3924-4c86-8bc4-b72e708912f3",
   "metadata": {},
   "source": [
    "### Obtaining API"
   ]
  },
  {
   "cell_type": "code",
   "execution_count": null,
   "id": "c3abf076-fe56-49a0-a35c-b5e1dd314d7b",
   "metadata": {},
   "outputs": [],
   "source": [
    "from secrets1 import AV_PRICE_API_TOKEN\n",
    "from secrets2 import AV_MKTCAP_API_TOKEN"
   ]
  },
  {
   "cell_type": "markdown",
   "id": "e29c9c50-057c-449e-acc7-388ba85156ce",
   "metadata": {},
   "source": [
    "### Calling one API"
   ]
  },
  {
   "cell_type": "code",
   "execution_count": null,
   "id": "3130bbed-64e9-45e9-8c21-ded3855cfaa2",
   "metadata": {},
   "outputs": [],
   "source": [
    "symbol='AAPL'\n",
    "api_price_url = f'https://www.alphavantage.co/query?function=GLOBAL_QUOTE&symbol={symbol}&apikey={AV_PRICE_API_TOKEN}'\n",
    "data_price = requests.get(api_price_url).json()\n",
    "data_price "
   ]
  },
  {
   "cell_type": "code",
   "execution_count": null,
   "id": "8ffeb6f6-2977-4d14-a4c6-cdec46b37343",
   "metadata": {},
   "outputs": [],
   "source": [
    "api_mktcap_url = f'https://www.alphavantage.co/query?function=OVERVIEW&symbol={symbol}&apikey={AV_MKTCAP_API_TOKEN}'\n",
    "data_mktcap = requests.get(api_mktcap_url).json()\n",
    "data_mktcap"
   ]
  },
  {
   "cell_type": "code",
   "execution_count": null,
   "id": "385dcd93-7a84-4a2a-af43-cc2681940d28",
   "metadata": {},
   "outputs": [],
   "source": [
    "data_price['Global Quote']['05. price']\n",
    "data_mktcap['MarketCapitalization']"
   ]
  },
  {
   "cell_type": "code",
   "execution_count": null,
   "id": "74a201db-2778-41f2-9e42-fa135d1cdf2c",
   "metadata": {},
   "outputs": [],
   "source": [
    "print(data_price['Global Quote']['05. price'])\n",
    "print(data_mktcap['MarketCapitalization'])"
   ]
  },
  {
   "cell_type": "markdown",
   "id": "892191dc-2d22-4678-bea3-0ddf6d77ced1",
   "metadata": {},
   "source": [
    "### Looping through Tickers in S&P500 Stocks"
   ]
  },
  {
   "cell_type": "code",
   "execution_count": null,
   "id": "9130860f-22c2-4d76-b5fc-e592b51a2374",
   "metadata": {},
   "outputs": [],
   "source": [
    "my_columns = ['Ticker', 'Price','Market Capitalization', 'Number Of Shares to Buy']\n",
    "df = pd.DataFrame(columns = my_columns)"
   ]
  },
  {
   "cell_type": "code",
   "execution_count": null,
   "id": "969656d3-6baa-4bbd-8cc8-4c9ce4cd3dd0",
   "metadata": {},
   "outputs": [],
   "source": [
    "for symbol in stocks['Ticker']:\n",
    "    api_price_url = f'https://www.alphavantage.co/query?function=GLOBAL_QUOTE&symbol={symbol}&apikey={AV_PRICE_API_TOKEN}'\n",
    "    api_mktcap_url = f'https://www.alphavantage.co/query?function=OVERVIEW&symbol={symbol}&apikey={AV_MKTCAP_API_TOKEN}'\n",
    "    data_price = requests.get(api_price_url).json()\n",
    "    data_mktcap = requests.get(api_mktcap_url).json()\n",
    "    new_row = pd.DataFrame([[symbol, data_price['Global Quote']['05. price'], data_mktcap['MarketCapitalization'], 'N/A']],\n",
    "                       columns=my_columns)\n",
    "    df = pd.concat([df, new_row], ignore_index=True)\n",
    "\n",
    "df"
   ]
  },
  {
   "cell_type": "markdown",
   "id": "9b2c06d4-8f2c-48ca-ad59-5e80a52827a9",
   "metadata": {},
   "source": [
    "### Calculating number of shares to buy"
   ]
  },
  {
   "cell_type": "code",
   "execution_count": null,
   "id": "ce60403a-421b-4ba7-9f63-726919d9d266",
   "metadata": {},
   "outputs": [],
   "source": [
    "while True:\n",
    "    portfolio_size = input(\"Please enter the value of your portfolio: \")\n",
    "    \n",
    "    try:\n",
    "        val = float(portfolio_size)\n",
    "        break  # Exit the loop if the input is a valid float\n",
    "    except ValueError:\n",
    "        print(\"That's not a number! Please try again.\")"
   ]
  },
  {
   "cell_type": "code",
   "execution_count": null,
   "id": "1a0093dc-5d88-4d7b-ac17-9137ba8bb918",
   "metadata": {},
   "outputs": [],
   "source": [
    "position_size = float(portfolio_size) / len(df.index)\n",
    "for i in range(0, len(df.index):\n",
    "    df.loc[i, 'Number Of Shares to Buy'] = math.floor(position_size / df['Price'][i])\n",
    "df"
   ]
  },
  {
   "cell_type": "markdown",
   "id": "93c20b23-870e-4ac7-b161-92db8549328b",
   "metadata": {},
   "source": [
    "### Formatting Excel Output"
   ]
  },
  {
   "cell_type": "code",
   "execution_count": null,
   "id": "c335d6c9-f5ae-4c15-b3ad-d0944e0c7860",
   "metadata": {},
   "outputs": [],
   "source": [
    "writer = pd.ExcelWriter('Equal_Weights_S&P500.xlsx', engine='xlsxwriter')\n",
    "final_dataframe.to_excel(writer, sheet_name='Recommended Trades', index = False)"
   ]
  },
  {
   "cell_type": "code",
   "execution_count": null,
   "id": "e8ed8f44-40ea-4368-9446-de53b0a36be6",
   "metadata": {},
   "outputs": [],
   "source": [
    "background_color = '#0a0a23'\n",
    "font_color = '#ffffff'\n",
    "\n",
    "string_format = writer.book.add_format(\n",
    "        {\n",
    "            'font_color': font_color,\n",
    "            'bg_color': background_color,\n",
    "            'border': 1\n",
    "        }\n",
    "    )\n",
    "\n",
    "dollar_format = writer.book.add_format(\n",
    "        {\n",
    "            'num_format':'$0.00',\n",
    "            'font_color': font_color,\n",
    "            'bg_color': background_color,\n",
    "            'border': 1\n",
    "        }\n",
    "    )\n",
    "\n",
    "integer_format = writer.book.add_format(\n",
    "        {\n",
    "            'num_format':'0',\n",
    "            'font_color': font_color,\n",
    "            'bg_color': background_color,\n",
    "            'border': 1\n",
    "        }\n",
    "    )"
   ]
  },
  {
   "cell_type": "code",
   "execution_count": null,
   "id": "41686590-1700-41cc-9301-640cd3c975ad",
   "metadata": {},
   "outputs": [],
   "source": [
    "column_formats = { \n",
    "                    'A': ['Ticker', string_format],\n",
    "                    'B': ['Price', dollar_format],\n",
    "                    'C': ['Market Capitalization', dollar_format],\n",
    "                    'D': ['Number of Shares to Buy', integer_format]\n",
    "                    }\n",
    "\n",
    "for column in column_formats.keys():\n",
    "    writer.sheets['Recommended Trades'].set_column(f'{column}:{column}', 20, column_formats[column][1])\n",
    "    writer.sheets['Recommended Trades'].write(f'{column}1', column_formats[column][0], string_format)"
   ]
  },
  {
   "cell_type": "code",
   "execution_count": null,
   "id": "8aebc363-96bc-40d2-a210-f6a1c8d5c9af",
   "metadata": {},
   "outputs": [],
   "source": [
    "writer.save()"
   ]
  }
 ],
 "metadata": {
  "kernelspec": {
   "display_name": "Python 3 (ipykernel)",
   "language": "python",
   "name": "python3"
  },
  "language_info": {
   "codemirror_mode": {
    "name": "ipython",
    "version": 3
   },
   "file_extension": ".py",
   "mimetype": "text/x-python",
   "name": "python",
   "nbconvert_exporter": "python",
   "pygments_lexer": "ipython3",
   "version": "3.12.4"
  }
 },
 "nbformat": 4,
 "nbformat_minor": 5
}
