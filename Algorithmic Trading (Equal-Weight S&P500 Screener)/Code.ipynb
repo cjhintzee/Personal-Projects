{
 "cells": [
  {
   "cell_type": "markdown",
   "id": "bf178ed6-6d7e-4d19-bc7d-e180496c0ccb",
   "metadata": {},
   "source": [
    "### Libraries"
   ]
  },
  {
   "cell_type": "code",
   "execution_count": null,
   "id": "df0b1816-8d44-4117-905d-19d7adb9c8d9",
   "metadata": {},
   "outputs": [],
   "source": [
    "import numpy as np \n",
    "import pandas as pd \n",
    "import requests \n",
    "import xlsxwriter \n",
    "import math \n",
    "import yfinance as yf"
   ]
  },
  {
   "cell_type": "markdown",
   "id": "f3600607-78b1-4008-afea-be35f36f0ef8",
   "metadata": {},
   "source": [
    "### Importing Data (list of static S&P500 stocks)"
   ]
  },
  {
   "cell_type": "code",
   "execution_count": null,
   "id": "113c0af0-5ca2-47ec-af30-1aef45742898",
   "metadata": {},
   "outputs": [],
   "source": [
    "stocks = pd.read_csv('sp_500_stocks.csv')"
   ]
  },
  {
   "cell_type": "code",
   "execution_count": null,
   "id": "854c3da4-8e68-4feb-b7ef-44a2e7a72bba",
   "metadata": {},
   "outputs": [],
   "source": [
    "print(stocks)"
   ]
  },
  {
   "cell_type": "markdown",
   "id": "3347d6c5-3924-4c86-8bc4-b72e708912f3",
   "metadata": {
    "jp-MarkdownHeadingCollapsed": true
   },
   "source": [
    "### Obtaining API"
   ]
  },
  {
   "cell_type": "code",
   "execution_count": null,
   "id": "c3abf076-fe56-49a0-a35c-b5e1dd314d7b",
   "metadata": {},
   "outputs": [],
   "source": [
    "# from secrets1 import AV_PRICE_API_TOKEN\n",
    "# from secrets2 import AV_MKTCAP_API_TOKEN"
   ]
  },
  {
   "cell_type": "markdown",
   "id": "e29c9c50-057c-449e-acc7-388ba85156ce",
   "metadata": {
    "jp-MarkdownHeadingCollapsed": true
   },
   "source": [
    "### Calling one API"
   ]
  },
  {
   "cell_type": "code",
   "execution_count": null,
   "id": "3130bbed-64e9-45e9-8c21-ded3855cfaa2",
   "metadata": {},
   "outputs": [],
   "source": [
    "# symbol='AAPL'\n",
    "# api_price_url = f'https://www.alphavantage.co/query?function=GLOBAL_QUOTE&symbol={symbol}&apikey={AV_PRICE_API_TOKEN}'\n",
    "# data_price = requests.get(api_price_url).json()\n",
    "# data_price "
   ]
  },
  {
   "cell_type": "code",
   "execution_count": null,
   "id": "8ffeb6f6-2977-4d14-a4c6-cdec46b37343",
   "metadata": {
    "scrolled": true
   },
   "outputs": [],
   "source": [
    "# api_mktcap_url = f'https://www.alphavantage.co/query?function=OVERVIEW&symbol={symbol}&apikey={AV_MKTCAP_API_TOKEN}'\n",
    "# data_mktcap = requests.get(api_mktcap_url).json()\n",
    "# data_mktcap"
   ]
  },
  {
   "cell_type": "code",
   "execution_count": null,
   "id": "385dcd93-7a84-4a2a-af43-cc2681940d28",
   "metadata": {},
   "outputs": [],
   "source": [
    "# data_price['Global Quote']['05. price']\n",
    "# data_mktcap['MarketCapitalization']"
   ]
  },
  {
   "cell_type": "code",
   "execution_count": null,
   "id": "74a201db-2778-41f2-9e42-fa135d1cdf2c",
   "metadata": {},
   "outputs": [],
   "source": [
    "# print(data_price['Global Quote']['05. price'])\n",
    "# print(data_mktcap['MarketCapitalization'])"
   ]
  },
  {
   "cell_type": "markdown",
   "id": "3a5e192c-a372-4e55-b14c-02e133f57641",
   "metadata": {
    "jp-MarkdownHeadingCollapsed": true
   },
   "source": [
    "### Looping through Tickers using API"
   ]
  },
  {
   "cell_type": "code",
   "execution_count": null,
   "id": "be2c3114-23b2-4725-96a1-555bccb81d63",
   "metadata": {},
   "outputs": [],
   "source": [
    "# for symbol in stocks['Ticker'][:5]:\n",
    "#     api_price_url = f'https://www.alphavantage.co/query?function=GLOBAL_QUOTE&symbol={symbol}&apikey={AV_PRICE_API_TOKEN}'\n",
    "#     api_mktcap_url = f'https://www.alphavantage.co/query?function=OVERVIEW&symbol={symbol}&apikey={AV_MKTCAP_API_TOKEN}'\n",
    "#     data_price = requests.get(api_price_url).json()\n",
    "#     data_mktcap = requests.get(api_mktcap_url).json()\n",
    "#     new_row = pd.DataFrame([[symbol, data_price['Global Quote']['05. price'], data_mktcap['MarketCapitalization'], 'N/A']],\n",
    "#                        columns=my_columns)\n",
    "#     df = pd.concat([df, new_row], ignore_index=True)\n",
    "\n",
    "# df"
   ]
  },
  {
   "cell_type": "markdown",
   "id": "892191dc-2d22-4678-bea3-0ddf6d77ced1",
   "metadata": {},
   "source": [
    "### Looping through Tickers in S&P500 Stocks"
   ]
  },
  {
   "cell_type": "code",
   "execution_count": null,
   "id": "9130860f-22c2-4d76-b5fc-e592b51a2374",
   "metadata": {},
   "outputs": [],
   "source": [
    "my_columns = ['Ticker', 'Price', 'Number Of Shares to Buy']\n",
    "df = pd.DataFrame(columns = my_columns)\n",
    "df"
   ]
  },
  {
   "cell_type": "code",
   "execution_count": null,
   "id": "969656d3-6baa-4bbd-8cc8-4c9ce4cd3dd0",
   "metadata": {
    "scrolled": true
   },
   "outputs": [],
   "source": [
    "for symbol in stocks['Ticker']:\n",
    "    try:\n",
    "        ticker = yf.Ticker(symbol)\n",
    "        data = ticker.history()\n",
    "        last_quote = data['Close'].iloc[-1]\n",
    "        new_row = pd.DataFrame([[symbol, last_quote, 'N/A']], columns=my_columns)\n",
    "        df = pd.concat([df, new_row], ignore_index=True)\n",
    "    except Exception as e:\n",
    "        continue\n",
    "df"
   ]
  },
  {
   "cell_type": "markdown",
   "id": "9b2c06d4-8f2c-48ca-ad59-5e80a52827a9",
   "metadata": {},
   "source": [
    "### Calculating number of shares to buy"
   ]
  },
  {
   "cell_type": "code",
   "execution_count": null,
   "id": "215c0474-c547-4114-bdd2-815ef2c1e233",
   "metadata": {},
   "outputs": [],
   "source": [
    "while True:\n",
    "    portfolio_size = input(\"Please enter the value of your portfolio: \")\n",
    "    \n",
    "    try:\n",
    "        val = float(portfolio_size)\n",
    "        break  # Exit the loop if the input is a valid float\n",
    "    except ValueError:\n",
    "        print(\"That's not a number! Please try again.\")"
   ]
  },
  {
   "cell_type": "code",
   "execution_count": null,
   "id": "1a0093dc-5d88-4d7b-ac17-9137ba8bb918",
   "metadata": {},
   "outputs": [],
   "source": [
    "position_size = float(portfolio_size) / len(df.index)\n",
    "print(\"Position Size for each company is: $\" f'{position_size}')\n",
    "\n",
    "df['Price'] = pd.to_numeric(df['Price'], errors='coerce')\n",
    "for i in range(0, len(df.index)):\n",
    "    df.loc[i, 'Number Of Shares to Buy'] = math.floor(position_size / df['Price'][i])\n",
    "df"
   ]
  },
  {
   "cell_type": "markdown",
   "id": "93c20b23-870e-4ac7-b161-92db8549328b",
   "metadata": {},
   "source": [
    "### Formatting Excel Output"
   ]
  },
  {
   "cell_type": "code",
   "execution_count": null,
   "id": "c335d6c9-f5ae-4c15-b3ad-d0944e0c7860",
   "metadata": {},
   "outputs": [],
   "source": [
    "writer = pd.ExcelWriter('Equal_Weights_S&P500.xlsx', engine='xlsxwriter')\n",
    "df.to_excel(writer, sheet_name='Recommended Trades', index = False)"
   ]
  },
  {
   "cell_type": "code",
   "execution_count": null,
   "id": "e8ed8f44-40ea-4368-9446-de53b0a36be6",
   "metadata": {},
   "outputs": [],
   "source": [
    "background_color = '#0a0a23'\n",
    "font_color = '#ffffff'\n",
    "\n",
    "string_format = writer.book.add_format(\n",
    "        {\n",
    "            'font_color': font_color,\n",
    "            'bg_color': background_color,\n",
    "            'border': 1\n",
    "        }\n",
    "    )\n",
    "\n",
    "dollar_format = writer.book.add_format(\n",
    "        {\n",
    "            'num_format':'$0.00',\n",
    "            'font_color': font_color,\n",
    "            'bg_color': background_color,\n",
    "            'border': 1\n",
    "        }\n",
    "    )\n",
    "\n",
    "integer_format = writer.book.add_format(\n",
    "        {\n",
    "            'num_format':'0',\n",
    "            'font_color': font_color,\n",
    "            'bg_color': background_color,\n",
    "            'border': 1\n",
    "        }\n",
    "    )"
   ]
  },
  {
   "cell_type": "code",
   "execution_count": null,
   "id": "41686590-1700-41cc-9301-640cd3c975ad",
   "metadata": {},
   "outputs": [],
   "source": [
    "column_formats = { \n",
    "                    'A': ['Ticker', string_format],\n",
    "                    'B': ['Price', dollar_format],\n",
    "                    'C': ['Number of Shares to Buy', integer_format]\n",
    "                    }\n",
    "\n",
    "for column in column_formats.keys():\n",
    "    writer.sheets['Recommended Trades'].set_column(f'{column}:{column}', 20, column_formats[column][1])\n",
    "    writer.sheets['Recommended Trades'].write(f'{column}1', column_formats[column][0], string_format)"
   ]
  },
  {
   "cell_type": "code",
   "execution_count": null,
   "id": "8aebc363-96bc-40d2-a210-f6a1c8d5c9af",
   "metadata": {},
   "outputs": [],
   "source": [
    "writer.close()"
   ]
  },
  {
   "cell_type": "markdown",
   "id": "32f75a7d-e46e-486a-80c0-bb9744447be0",
   "metadata": {},
   "source": [
    "### Backtesting the Strategy"
   ]
  },
  {
   "cell_type": "code",
   "execution_count": null,
   "id": "09775551-7f26-4309-80a0-aa7cebe5742d",
   "metadata": {},
   "outputs": [],
   "source": [
    "import backtrader as bt"
   ]
  },
  {
   "cell_type": "code",
   "execution_count": null,
   "id": "99628de9-4a97-41fc-874c-86aa6d7aa0b1",
   "metadata": {},
   "outputs": [],
   "source": [
    "class EqualWeightSP500(bt.Strategy):\n",
    "    params = (\n",
    "        ('rebalance_days', 60),  # Rebalance every 60 days\n",
    "    )\n",
    "\n",
    "    def __init__(self):\n",
    "        self.counter = 0  # Count days to trigger rebalancing\n",
    "        self.stocks = self.datas  # List of stock data feeds\n",
    "\n",
    "    def log(self, txt, dt=None):\n",
    "        dt = dt or self.datas[0].datetime.date(0)\n",
    "        print(f'{dt.isoformat()} {txt}')\n",
    "\n",
    "    def next(self):\n",
    "        # Increment counter each day\n",
    "        self.counter += 1\n",
    "        print(f\"Day {self.counter}: Checking for rebalancing...\")\n",
    "\n",
    "        # Rebalance the portfolio every 30 days\n",
    "        if self.counter % self.params.rebalance_days == 0:\n",
    "            print(\"Rebalancing portfolio...\")\n",
    "            self.rebalance_portfolio()\n",
    "\n",
    "    def rebalance_portfolio(self):\n",
    "         # Get the value of the portfolio\n",
    "        portfolio_value = self.broker.getvalue()\n",
    "\n",
    "        # Equal weight: Calculate how much money to allocate per stock\n",
    "        num_stocks = len(self.stocks)\n",
    "        if num_stocks == 0:\n",
    "            print(\"No stocks found for rebalancing.\")\n",
    "            return\n",
    "\n",
    "        # Amount of money to allocate to each stock \n",
    "        position_size = portfolio_value / num_stocks\n",
    "        \n",
    "        # Sell all positions\n",
    "        for data in self.stocks:\n",
    "            position = self.getposition(data)\n",
    "            if position.size > 0:\n",
    "                print(f\"Selling all shares of {data._name}\")\n",
    "                self.sell(data=data, size=position.size)\n",
    "    \n",
    "        # Buy equal shares for each stock\n",
    "        for data in self.stocks:\n",
    "            price = data.close[0] # Get the current closing price\n",
    "            if price > 0: # Ensure valid price\n",
    "                num_shares = math.floor(position_size / price)\n",
    "                print(f\"Buying {num_shares} shares of {data._name} at {price}\")\n",
    "                self.buy(data=data, size=num_shares)\n"
   ]
  },
  {
   "cell_type": "code",
   "execution_count": null,
   "id": "f5a1d5b9-832d-4629-9e68-29d612e6e9e9",
   "metadata": {},
   "outputs": [],
   "source": [
    "def load_stock_data(symbol, start_date, end_date):\n",
    "    df = yf.download(f'{symbol}', start=start_date, end=end_date, interval='1d')\n",
    "    df = df[['Open', 'High', 'Low', 'Close', 'Adj Close', 'Volume']]\n",
    "    \n",
    "    # Create a complete date range and reindex\n",
    "    date_range = pd.date_range(start=start_date, end=end_date, freq='B')  # 'B' for business days\n",
    "    df = df.reindex(date_range)\n",
    "    \n",
    "    # fill missing values after reindexing\n",
    "    df.fillna(method='ffill', inplace=True)\n",
    "    df.fillna(method='bfill', inplace=True)\n",
    "\n",
    "    # Ensure the shape after reindexing\n",
    "    print(f\"Data for {symbol}: {df.shape}\")\n",
    "    \n",
    "    data = bt.feeds.PandasData(\n",
    "        dataname=df, \n",
    "        fromdate=pd.Timestamp(start_date), \n",
    "        todate=pd.Timestamp(end_date)\n",
    "    )\n",
    "    data._name = symbol\n",
    "    \n",
    "    return data, df  # Return both Backtrader data feed and original DataFrame"
   ]
  },
  {
   "cell_type": "code",
   "execution_count": null,
   "id": "eb1f1c8b-0042-4f21-acbd-0a0d4588cd1f",
   "metadata": {},
   "outputs": [],
   "source": [
    "# Initialize Backtrader engine (Cerebro)\n",
    "cerebro = bt.Cerebro()\n",
    "\n",
    "# Initial capital for backtest\n",
    "cerebro.broker.setcash(1000000)"
   ]
  },
  {
   "cell_type": "code",
   "execution_count": null,
   "id": "da80a619-be55-4f25-bc70-a31080f633a2",
   "metadata": {
    "scrolled": true
   },
   "outputs": [],
   "source": [
    "for stock in df['Ticker']:\n",
    "    data, original_df = load_stock_data(stock, '2014-10-01', '2024-10-01')  # Load both data feed and DataFrame\n",
    "    print(f\"Data for {stock}: {original_df.shape}\")  # Print the shape of the DataFrame\n",
    "    cerebro.adddata(data)  # Add the stock data to Backtrader"
   ]
  },
  {
   "cell_type": "code",
   "execution_count": null,
   "id": "e5e75467-d02f-4a3d-b2c6-4dfe0a1076fd",
   "metadata": {},
   "outputs": [],
   "source": [
    "cerebro.addstrategy(EqualWeightSP500)"
   ]
  },
  {
   "cell_type": "code",
   "execution_count": null,
   "id": "f75e6376-c27a-4c6d-9d3e-d8940af4483f",
   "metadata": {},
   "outputs": [],
   "source": [
    "cerebro.addanalyzer(bt.analyzers.SharpeRatio, _name='sharpe')\n",
    "cerebro.addanalyzer(bt.analyzers.DrawDown, _name='drawdown')\n",
    "cerebro.addanalyzer(bt.analyzers.Returns, _name='returns')\n",
    "cerebro.addanalyzer(bt.analyzers.TradeAnalyzer, _name='trades')"
   ]
  },
  {
   "cell_type": "code",
   "execution_count": null,
   "id": "f17e0274-8f3d-4dfb-bb54-e31d5badbd0d",
   "metadata": {
    "scrolled": true
   },
   "outputs": [],
   "source": [
    "print(f\"Initial Portfolio Value: {cerebro.broker.getvalue()}\")\n",
    "\n",
    "results = cerebro.run()\n",
    "\n",
    "print(f\"Final Portfolio Value: {cerebro.broker.getvalue()}\")"
   ]
  },
  {
   "cell_type": "code",
   "execution_count": null,
   "id": "3695eb65-a18c-4235-a0a4-5fafe4384d0b",
   "metadata": {},
   "outputs": [],
   "source": [
    "# Accessing the results of analyzers\n",
    "strat = results[0]  # Get the strategy instance\n",
    "\n",
    "# Extract statistics from analyzers\n",
    "sharpe = strat.analyzers.sharpe.get_analysis()\n",
    "drawdown = strat.analyzers.drawdown.get_analysis()\n",
    "returns = strat.analyzers.returns.get_analysis()\n",
    "trades = strat.analyzers.trades.get_analysis()\n",
    "\n",
    "# Print out or save the results\n",
    "print(f'Sharpe Ratio: {sharpe[\"sharperatio\"]}')\n",
    "print(f'Max Drawdown: {drawdown[\"max\"][\"drawdown\"]}%')\n",
    "print(f'Annual Return: {returns[\"rnorm100\"]}%')\n",
    "\n",
    "# Accessing trade statistics\n",
    "print(f'Total Trades: {trades.total.total}')\n",
    "print(f'Winning Trades: {trades.won.total}')\n",
    "print(f'Losing Trades: {trades.lost.total}')"
   ]
  },
  {
   "cell_type": "markdown",
   "id": "7f8f01c1-2315-4c28-8776-c938dcc47386",
   "metadata": {},
   "source": [
    "### Visualling Backtesting Results"
   ]
  },
  {
   "cell_type": "code",
   "execution_count": null,
   "id": "fe606c1a-4d4a-4fae-97d8-be10f047c7ce",
   "metadata": {},
   "outputs": [],
   "source": [
    "import matplotlib.pyplot as plt\n",
    "from IPython.display import display, Javascript, Image\n",
    "%matplotlib inline"
   ]
  },
  {
   "cell_type": "code",
   "execution_count": null,
   "id": "f114fe0d-a153-41df-aa18-22f2cc7b2a00",
   "metadata": {},
   "outputs": [],
   "source": [
    "plt.rcParams['figure.figsize'] = [15, 12]\n",
    "plt.rcParams.update({'font.size': 12})"
   ]
  },
  {
   "cell_type": "code",
   "execution_count": null,
   "id": "ff3726c0-4733-44d8-94b5-c866e56399b8",
   "metadata": {
    "scrolled": true
   },
   "outputs": [],
   "source": [
    "fig = cerebro.plot(iplot=False)[0][0]\n",
    "fig.savefig('backtest_results.png')  # Save to file\n",
    "Image('backtest_results.png')"
   ]
  }
 ],
 "metadata": {
  "kernelspec": {
   "display_name": "Python 3 (ipykernel)",
   "language": "python",
   "name": "python3"
  },
  "language_info": {
   "codemirror_mode": {
    "name": "ipython",
    "version": 3
   },
   "file_extension": ".py",
   "mimetype": "text/x-python",
   "name": "python",
   "nbconvert_exporter": "python",
   "pygments_lexer": "ipython3",
   "version": "3.12.4"
  }
 },
 "nbformat": 4,
 "nbformat_minor": 5
}
